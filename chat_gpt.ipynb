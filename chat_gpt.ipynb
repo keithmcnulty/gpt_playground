{
 "cells": [
  {
   "cell_type": "code",
   "execution_count": 46,
   "metadata": {
    "collapsed": true
   },
   "outputs": [],
   "source": [
    "from chatapp import *"
   ]
  },
  {
   "cell_type": "code",
   "execution_count": 47,
   "outputs": [],
   "source": [
    "chat = ChatApp()"
   ],
   "metadata": {
    "collapsed": false
   }
  },
  {
   "cell_type": "code",
   "execution_count": 48,
   "outputs": [
    {
     "data": {
      "text/plain": "<OpenAIObject at 0x122162e30> JSON: {\n  \"content\": \"Hello! I'm glad you enjoy talking about TV shows. What's your favorite show right now?\",\n  \"role\": \"assistant\"\n}"
     },
     "execution_count": 48,
     "metadata": {},
     "output_type": "execute_result"
    }
   ],
   "source": [
    "chat.chat(\"Hello\")"
   ],
   "metadata": {
    "collapsed": false
   }
  },
  {
   "cell_type": "code",
   "execution_count": 49,
   "outputs": [
    {
     "data": {
      "text/plain": "<OpenAIObject at 0x122163060> JSON: {\n  \"content\": \"Mad Men is a great show! Personally, I really enjoy watching Breaking Bad. The character development and storytelling are fantastic.\",\n  \"role\": \"assistant\"\n}"
     },
     "execution_count": 49,
     "metadata": {},
     "output_type": "execute_result"
    }
   ],
   "source": [
    "chat.chat(\"I love Mad Men. How about you?\")"
   ],
   "metadata": {
    "collapsed": false
   }
  },
  {
   "cell_type": "code",
   "execution_count": 50,
   "outputs": [
    {
     "data": {
      "text/plain": "<OpenAIObject at 0x12210cf40> JSON: {\n  \"content\": \"Yes, Mad Men is a show with a lot of depth and complexity. It's interesting to see how the characters evolve over time and how their experiences shape their perspectives. There are many themes to explore, from gender roles and social norms to American history and cultural change. It's definitely a show that rewards close attention and analysis.\",\n  \"role\": \"assistant\"\n}"
     },
     "execution_count": 50,
     "metadata": {},
     "output_type": "execute_result"
    }
   ],
   "source": [
    "chat.chat(\"I love how many themes there were to explore in each episode.  Very rich indeed.\")"
   ],
   "metadata": {
    "collapsed": false
   }
  },
  {
   "cell_type": "code",
   "execution_count": 51,
   "outputs": [
    {
     "data": {
      "text/plain": "<OpenAIObject at 0x12210cea0> JSON: {\n  \"content\": \"Mad Men takes place primarily in the 1960s, starting in 1960 and leading up to the early 1970s. The final season specifically takes place in 1969-1970, which is when many changes were taking place in American society, such as the Vietnam War and the counterculture movement. The show does a great job of capturing the social and cultural changes of the time period and how they affected the characters' lives and experiences.\",\n  \"role\": \"assistant\"\n}"
     },
     "execution_count": 51,
     "metadata": {},
     "output_type": "execute_result"
    }
   ],
   "source": [
    "chat.chat(\"Is it true that a part of Mad Men took place in the 1970s?\")"
   ],
   "metadata": {
    "collapsed": false
   }
  },
  {
   "cell_type": "code",
   "execution_count": null,
   "outputs": [],
   "source": [],
   "metadata": {
    "collapsed": false,
    "pycharm": {
     "is_executing": true
    }
   }
  },
  {
   "cell_type": "code",
   "execution_count": null,
   "outputs": [],
   "source": [],
   "metadata": {
    "collapsed": false
   }
  }
 ],
 "metadata": {
  "kernelspec": {
   "display_name": "Python 3",
   "language": "python",
   "name": "python3"
  },
  "language_info": {
   "codemirror_mode": {
    "name": "ipython",
    "version": 2
   },
   "file_extension": ".py",
   "mimetype": "text/x-python",
   "name": "python",
   "nbconvert_exporter": "python",
   "pygments_lexer": "ipython2",
   "version": "2.7.6"
  }
 },
 "nbformat": 4,
 "nbformat_minor": 0
}
