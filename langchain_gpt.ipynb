{
 "cells": [
  {
   "cell_type": "code",
   "execution_count": 90,
   "metadata": {
    "collapsed": true
   },
   "outputs": [],
   "source": [
    "import inspect\n",
    "import os\n",
    "from dotenv import load_dotenv\n",
    "from langchain.chat_models import ChatOpenAI\n",
    "from langchain.chains import LLMChain, ConversationChain\n",
    "from langchain.chains.conversation.memory import (ConversationBufferMemory,\n",
    "                                                  ConversationSummaryMemory,\n",
    "                                                  ConversationBufferWindowMemory,\n",
    "                                                  ConversationKGMemory)\n",
    "from langchain.callbacks import get_openai_callback\n",
    "import tiktoken"
   ]
  },
  {
   "cell_type": "code",
   "execution_count": 91,
   "outputs": [],
   "source": [
    "load_dotenv()\n",
    "OPENAI_API_KEY = os.getenv(\"OPENAI_API_KEY\")"
   ],
   "metadata": {
    "collapsed": false
   }
  },
  {
   "cell_type": "code",
   "execution_count": 92,
   "outputs": [],
   "source": [
    "llm = OpenAI(\n",
    "    temperature=0,\n",
    "    openai_api_key=OPENAI_API_KEY,\n",
    "    model_name='gpt-3.5-turbo'  # can be used with llms like 'gpt-3.5-turbo'\n",
    ")"
   ],
   "metadata": {
    "collapsed": false
   }
  },
  {
   "cell_type": "code",
   "execution_count": 93,
   "outputs": [],
   "source": [
    "def count_tokens(chain, query):\n",
    "    with get_openai_callback() as cb:\n",
    "        result = chain.run(query)\n",
    "        print(f'Spent a total of {cb.total_tokens} tokens')\n",
    "\n",
    "    return result"
   ],
   "metadata": {
    "collapsed": false
   }
  },
  {
   "cell_type": "code",
   "execution_count": 94,
   "outputs": [],
   "source": [
    "conversation = ConversationChain(\n",
    "    llm=llm,\n",
    ")"
   ],
   "metadata": {
    "collapsed": false
   }
  },
  {
   "cell_type": "markdown",
   "source": [
    "Option 1:  Simple raw memory of conversation"
   ],
   "metadata": {
    "collapsed": false
   }
  },
  {
   "cell_type": "code",
   "execution_count": 95,
   "outputs": [],
   "source": [
    "conversation_buf = ConversationChain(\n",
    "    llm=llm,\n",
    "    memory=ConversationBufferMemory()\n",
    ")"
   ],
   "metadata": {
    "collapsed": false
   }
  },
  {
   "cell_type": "code",
   "execution_count": 96,
   "outputs": [
    {
     "data": {
      "text/plain": "{'input': 'Good morning GPT-3.5-turbo!',\n 'history': \"Human: Hello\\nAI: How are you?\\nHuman: Doing well, and you?\\nAI: I'm good too, thank you for asking!\",\n 'response': 'Good morning to you too! How can I assist you today?'}"
     },
     "execution_count": 96,
     "metadata": {},
     "output_type": "execute_result"
    }
   ],
   "source": [
    "conversation_buf.memory.save_context({\"input\": \"Hello\"}, {\"output\": \"How are you?\"})\n",
    "conversation_buf.memory.save_context({\"input\": \"Doing well, and you?\"}, {\"output\": \"I'm good too, thank you for asking!\"})\n",
    "\n",
    "conversation_buf(\"Good morning GPT-3.5-turbo!\")"
   ],
   "metadata": {
    "collapsed": false
   }
  },
  {
   "cell_type": "code",
   "execution_count": 97,
   "outputs": [
    {
     "name": "stdout",
     "output_type": "stream",
     "text": [
      "Spent a total of 232 tokens\n"
     ]
    },
    {
     "data": {
      "text/plain": "'Sure, I can help with that! Electrons are subatomic particles that have a negative charge and are found in the electron cloud surrounding the nucleus of an atom. They are considered to be elementary particles, meaning they cannot be broken down into smaller components. Other subatomic particles include protons, which have a positive charge, and neutrons, which have no charge. Is there anything specific you would like to know about these particles?'"
     },
     "execution_count": 97,
     "metadata": {},
     "output_type": "execute_result"
    }
   ],
   "source": [
    "count_tokens(\n",
    "    conversation_buf,\n",
    "    \"I'm interested in understanding the structure of an electron, and to find out some details about subatomic particles\"\n",
    ")"
   ],
   "metadata": {
    "collapsed": false
   }
  },
  {
   "cell_type": "code",
   "execution_count": 98,
   "outputs": [
    {
     "name": "stdout",
     "output_type": "stream",
     "text": [
      "Spent a total of 420 tokens\n"
     ]
    },
    {
     "data": {
      "text/plain": "'Sure, I can provide some information on that. Electrons are incredibly small, with a radius of approximately 2.8 x 10^-15 meters. Protons and neutrons are slightly larger, with radii of approximately 1 x 10^-15 meters. Quarks, which are the building blocks of protons and neutrons, are even smaller, with radii of approximately 10^-18 meters. The Higgs-Boson, on the other hand, is a subatomic particle that was discovered in 2012 and is responsible for giving other particles mass. It has a mass of approximately 125 giga-electronvolts (GeV) and a radius of approximately 10^-18 meters. Does that help answer your question?'"
     },
     "execution_count": 98,
     "metadata": {},
     "output_type": "execute_result"
    }
   ],
   "source": [
    "count_tokens(\n",
    "    conversation_buf,\n",
    "    \"I'd like to understand the approximate size of these particles and how they relate to other subatomic particles like quarks and the Higgs-Boson\"\n",
    ")"
   ],
   "metadata": {
    "collapsed": false
   }
  },
  {
   "cell_type": "code",
   "execution_count": 99,
   "outputs": [
    {
     "name": "stdout",
     "output_type": "stream",
     "text": [
      "Spent a total of 496 tokens\n"
     ]
    },
    {
     "data": {
      "text/plain": "'As far as we currently know, electrons, protons, neutrons, and quarks are considered to be the smallest subatomic particles. However, there is ongoing research in the field of particle physics to discover even smaller particles or to better understand the properties of these particles.'"
     },
     "execution_count": 99,
     "metadata": {},
     "output_type": "execute_result"
    }
   ],
   "source": [
    "count_tokens(\n",
    "    conversation_buf,\n",
    "    \"Yes it does.   Are there smaller particles than the ones you have already mentioned?\"\n",
    ")"
   ],
   "metadata": {
    "collapsed": false
   }
  },
  {
   "cell_type": "code",
   "execution_count": 100,
   "outputs": [
    {
     "name": "stdout",
     "output_type": "stream",
     "text": [
      "Spent a total of 547 tokens\n"
     ]
    },
    {
     "data": {
      "text/plain": "'You were interested in understanding the structure of an electron and learning about subatomic particles, including their size and how they relate to each other. Is there anything else I can help you with?'"
     },
     "execution_count": 100,
     "metadata": {},
     "output_type": "execute_result"
    }
   ],
   "source": [
    "count_tokens(\n",
    "    conversation_buf,\n",
    "    \"remind me what I am seeking help with?\"\n",
    ")"
   ],
   "metadata": {
    "collapsed": false
   }
  },
  {
   "cell_type": "code",
   "execution_count": 101,
   "outputs": [
    {
     "name": "stdout",
     "output_type": "stream",
     "text": [
      "Human: Hello\n",
      "AI: How are you?\n",
      "Human: Doing well, and you?\n",
      "AI: I'm good too, thank you for asking!\n",
      "Human: Good morning GPT-3.5-turbo!\n",
      "AI: Good morning to you too! How can I assist you today?\n",
      "Human: I'm interested in understanding the structure of an electron, and to find out some details about subatomic particles\n",
      "AI: Sure, I can help with that! Electrons are subatomic particles that have a negative charge and are found in the electron cloud surrounding the nucleus of an atom. They are considered to be elementary particles, meaning they cannot be broken down into smaller components. Other subatomic particles include protons, which have a positive charge, and neutrons, which have no charge. Is there anything specific you would like to know about these particles?\n",
      "Human: I'd like to understand the approximate size of these particles and how they relate to other subatomic particles like quarks and the Higgs-Boson\n",
      "AI: Sure, I can provide some information on that. Electrons are incredibly small, with a radius of approximately 2.8 x 10^-15 meters. Protons and neutrons are slightly larger, with radii of approximately 1 x 10^-15 meters. Quarks, which are the building blocks of protons and neutrons, are even smaller, with radii of approximately 10^-18 meters. The Higgs-Boson, on the other hand, is a subatomic particle that was discovered in 2012 and is responsible for giving other particles mass. It has a mass of approximately 125 giga-electronvolts (GeV) and a radius of approximately 10^-18 meters. Does that help answer your question?\n",
      "Human: Yes it does.   Are there smaller particles than the ones you have already mentioned?\n",
      "AI: As far as we currently know, electrons, protons, neutrons, and quarks are considered to be the smallest subatomic particles. However, there is ongoing research in the field of particle physics to discover even smaller particles or to better understand the properties of these particles.\n",
      "Human: remind me what I am seeking help with?\n",
      "AI: You were interested in understanding the structure of an electron and learning about subatomic particles, including their size and how they relate to each other. Is there anything else I can help you with?\n"
     ]
    }
   ],
   "source": [
    "print(conversation_buf.memory.buffer)"
   ],
   "metadata": {
    "collapsed": false
   }
  },
  {
   "cell_type": "markdown",
   "source": [
    "Option 2: Memory is a summary of prior conversation to be economical on tokens\n"
   ],
   "metadata": {
    "collapsed": false
   }
  },
  {
   "cell_type": "code",
   "execution_count": 102,
   "outputs": [],
   "source": [
    "conversation_sum = ConversationChain(\n",
    "    llm=llm,\n",
    "    memory=ConversationSummaryMemory(llm=llm)\n",
    ")"
   ],
   "metadata": {
    "collapsed": false
   }
  },
  {
   "cell_type": "code",
   "execution_count": 103,
   "outputs": [],
   "source": [
    "conversation_sum.memory.save_context({\"input\": \"Hello\"}, {\"output\": \"How are you?\"})\n",
    "conversation_sum.memory.save_context({\"input\": \"Doing well, and you?\"}, {\"output\": \"I'm good too, thank you for asking!\"})"
   ],
   "metadata": {
    "collapsed": false
   }
  },
  {
   "cell_type": "code",
   "execution_count": 104,
   "outputs": [
    {
     "name": "stdout",
     "output_type": "stream",
     "text": [
      "Spent a total of 365 tokens\n"
     ]
    },
    {
     "data": {
      "text/plain": "'Good morning to you too! How are you doing today?'"
     },
     "execution_count": 104,
     "metadata": {},
     "output_type": "execute_result"
    }
   ],
   "source": [
    "count_tokens(\n",
    "    conversation_sum,\n",
    "    \"Good morning GPT-3.5-turbo!\"\n",
    ")"
   ],
   "metadata": {
    "collapsed": false
   }
  },
  {
   "cell_type": "code",
   "execution_count": 105,
   "outputs": [
    {
     "name": "stdout",
     "output_type": "stream",
     "text": [
      "Spent a total of 632 tokens\n"
     ]
    },
    {
     "data": {
      "text/plain": "\"Ah, that's a fascinating topic! Electrons are subatomic particles that have a negative charge and are found in the electron cloud surrounding the nucleus of an atom. They are considered to be point particles, meaning they have no size or structure. However, they do have properties such as spin and magnetic moment that can be measured. As for other subatomic particles, there are many different types such as protons, neutrons, and various types of mesons and baryons. Is there anything specific you would like to know?\""
     },
     "execution_count": 105,
     "metadata": {},
     "output_type": "execute_result"
    }
   ],
   "source": [
    "count_tokens(\n",
    "    conversation_sum,\n",
    "    \"I'm interested in understanding the structure of an electron, and to find out some details about subatomic particles\"\n",
    ")"
   ],
   "metadata": {
    "collapsed": false
   }
  },
  {
   "cell_type": "code",
   "execution_count": 106,
   "outputs": [
    {
     "name": "stdout",
     "output_type": "stream",
     "text": [
      "Spent a total of 919 tokens\n"
     ]
    },
    {
     "data": {
      "text/plain": "\"Sure, I can help with that. Electrons are considered point particles, meaning they have no size or structure. Protons and neutrons, on the other hand, are made up of smaller particles called quarks. The size of a proton or neutron is approximately 1 femtometer (10^-15 meters). Mesons and baryons are also made up of quarks and have similar sizes to protons and neutrons. The Higgs-Boson, on the other hand, is a fundamental particle that gives mass to other particles. Its size is also incredibly small, approximately 10^-18 meters. Is there anything else you'd like to know?\""
     },
     "execution_count": 106,
     "metadata": {},
     "output_type": "execute_result"
    }
   ],
   "source": [
    "count_tokens(\n",
    "    conversation_sum,\n",
    "    \"I'd like to understand the approximate size of these particles and how they relate to other subatomic particles like quarks and the Higgs-Boson\"\n",
    ")"
   ],
   "metadata": {
    "collapsed": false
   }
  },
  {
   "cell_type": "code",
   "execution_count": 107,
   "outputs": [
    {
     "name": "stdout",
     "output_type": "stream",
     "text": [
      "Spent a total of 986 tokens\n"
     ]
    },
    {
     "data": {
      "text/plain": "\"Yes, there are smaller particles than the ones I mentioned. For example, there are leptons, which include electrons, muons, and tau particles. There are also neutrinos, which are extremely small and have no charge. Additionally, there are various types of bosons, which are particles that mediate fundamental forces like the electromagnetic force and the weak force. These include the photon, the W and Z bosons, and the gluon. However, it's important to note that our understanding of subatomic particles is constantly evolving, and there may be even smaller particles that we have not yet discovered or fully understood.\""
     },
     "execution_count": 107,
     "metadata": {},
     "output_type": "execute_result"
    }
   ],
   "source": [
    "count_tokens(\n",
    "    conversation_sum,\n",
    "    \"Yes it does.   Are there smaller particles than the ones you have already mentioned?\"\n",
    ")"
   ],
   "metadata": {
    "collapsed": false
   }
  },
  {
   "cell_type": "code",
   "execution_count": 108,
   "outputs": [
    {
     "name": "stdout",
     "output_type": "stream",
     "text": [
      "Spent a total of 584 tokens\n"
     ]
    },
    {
     "data": {
      "text/plain": "'I apologize for getting carried away with my explanation of subatomic particles. Please let me know what you need help with and I will do my best to assist you.'"
     },
     "execution_count": 108,
     "metadata": {},
     "output_type": "execute_result"
    }
   ],
   "source": [
    "count_tokens(\n",
    "    conversation_sum,\n",
    "    \"remind me what I am seeking help with?\"\n",
    ")"
   ],
   "metadata": {
    "collapsed": false
   }
  },
  {
   "cell_type": "code",
   "execution_count": 109,
   "outputs": [
    {
     "name": "stdout",
     "output_type": "stream",
     "text": [
      "The AI greets the human and explains the structure of subatomic particles. The human asks about their size and relation to other particles. The AI explains that our understanding of subatomic particles is constantly evolving and there may be even smaller particles we haven't discovered. The human asks for help, and the AI apologizes for getting carried away and offers to assist with their request.\n"
     ]
    }
   ],
   "source": [
    "print(conversation_sum.memory.buffer)"
   ],
   "metadata": {
    "collapsed": false
   }
  },
  {
   "cell_type": "markdown",
   "source": [
    "Counting conversation length"
   ],
   "metadata": {
    "collapsed": false
   }
  },
  {
   "cell_type": "code",
   "execution_count": 110,
   "outputs": [
    {
     "name": "stdout",
     "output_type": "stream",
     "text": [
      "Buffer memory conversation length: 487\n",
      "Summary memory conversation length: 75\n"
     ]
    }
   ],
   "source": [
    "# initialize tokenizer\n",
    "tokenizer = tiktoken.encoding_for_model('gpt-3.5-turbo')\n",
    "\n",
    "# show number of tokens for the memory used by each memory type\n",
    "print(\n",
    "    f'Buffer memory conversation length: {len(tokenizer.encode(conversation_buf.memory.buffer))}\\n'\n",
    "    f'Summary memory conversation length: {len(tokenizer.encode(conversation_sum.memory.buffer))}'\n",
    ")"
   ],
   "metadata": {
    "collapsed": false
   }
  },
  {
   "cell_type": "code",
   "execution_count": null,
   "outputs": [],
   "source": [],
   "metadata": {
    "collapsed": false
   }
  }
 ],
 "metadata": {
  "kernelspec": {
   "display_name": "Python 3",
   "language": "python",
   "name": "python3"
  },
  "language_info": {
   "codemirror_mode": {
    "name": "ipython",
    "version": 2
   },
   "file_extension": ".py",
   "mimetype": "text/x-python",
   "name": "python",
   "nbconvert_exporter": "python",
   "pygments_lexer": "ipython2",
   "version": "2.7.6"
  }
 },
 "nbformat": 4,
 "nbformat_minor": 0
}
